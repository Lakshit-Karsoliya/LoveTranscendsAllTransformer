{
 "cells": [
  {
   "cell_type": "markdown",
   "id": "58859b29",
   "metadata": {},
   "source": [
    "# this notebook shows how encoder network is used for classification of sentences"
   ]
  },
  {
   "cell_type": "markdown",
   "id": "f4603271",
   "metadata": {},
   "source": [
    "## It is working "
   ]
  },
  {
   "cell_type": "code",
   "execution_count": 1,
   "id": "8b9ab979",
   "metadata": {},
   "outputs": [],
   "source": [
    "! pip install -q kagglehub pandas matplotlib transformers tokenizers"
   ]
  },
  {
   "cell_type": "code",
   "execution_count": 2,
   "id": "84835517",
   "metadata": {},
   "outputs": [
    {
     "name": "stderr",
     "output_type": "stream",
     "text": [
      "/home/lamao/workdir/Transformers/env/lib/python3.12/site-packages/tqdm/auto.py:21: TqdmWarning: IProgress not found. Please update jupyter and ipywidgets. See https://ipywidgets.readthedocs.io/en/stable/user_install.html\n",
      "  from .autonotebook import tqdm as notebook_tqdm\n"
     ]
    },
    {
     "name": "stdout",
     "output_type": "stream",
     "text": [
      "Warning: Looks like you're using an outdated `kagglehub` version (installed: 0.3.11), please consider upgrading to the latest version (0.3.12).\n",
      "Path to dataset files: /home/lamao/.cache/kagglehub/datasets/datatattle/covid-19-nlp-text-classification/versions/1\n"
     ]
    }
   ],
   "source": [
    "import kagglehub\n",
    "path = kagglehub.dataset_download(\"datatattle/covid-19-nlp-text-classification\")\n",
    "print(\"Path to dataset files:\", path)"
   ]
  },
  {
   "cell_type": "code",
   "execution_count": 3,
   "id": "71c0ec5c",
   "metadata": {},
   "outputs": [
    {
     "name": "stdout",
     "output_type": "stream",
     "text": [
      "Uisng device: cpu\n"
     ]
    }
   ],
   "source": [
    "import torch \n",
    "import torch.nn as nn\n",
    "from torch.utils.data import Dataset, DataLoader\n",
    "import os\n",
    "import pandas as pd\n",
    "from Encoder import Encoder \n",
    "from PositionalEmbeddings import RoPE\n",
    "from tokenizers import Tokenizer\n",
    "from tokenizers.models import WordLevel\n",
    "from tokenizers.trainers import WordLevelTrainer\n",
    "from tokenizers.pre_tokenizers import Whitespace\n",
    "import re\n",
    "\n",
    "DEVICE = 'cuda' if torch.cuda.is_available() else 'cpu'\n",
    "print(\"Uisng device:\",DEVICE)"
   ]
  },
  {
   "cell_type": "code",
   "execution_count": 4,
   "id": "58e2281c",
   "metadata": {},
   "outputs": [
    {
     "data": {
      "text/plain": [
       "['Corona_NLP_test.csv', 'Corona_NLP_train.csv']"
      ]
     },
     "execution_count": 4,
     "metadata": {},
     "output_type": "execute_result"
    }
   ],
   "source": [
    "os.listdir(path)"
   ]
  },
  {
   "cell_type": "code",
   "execution_count": 5,
   "id": "4a355b6f",
   "metadata": {},
   "outputs": [
    {
     "data": {
      "text/plain": [
       "('/home/lamao/.cache/kagglehub/datasets/datatattle/covid-19-nlp-text-classification/versions/1/Corona_NLP_train.csv',\n",
       " '/home/lamao/.cache/kagglehub/datasets/datatattle/covid-19-nlp-text-classification/versions/1/Corona_NLP_test.csv')"
      ]
     },
     "execution_count": 5,
     "metadata": {},
     "output_type": "execute_result"
    }
   ],
   "source": [
    "train_dataset_path = os.path.join(path,\"Corona_NLP_train.csv\")\n",
    "test_dataset_path = os.path.join(path,\"Corona_NLP_test.csv\")\n",
    "\n",
    "train_dataset_path,test_dataset_path"
   ]
  },
  {
   "cell_type": "code",
   "execution_count": 6,
   "id": "b602c2d0",
   "metadata": {},
   "outputs": [],
   "source": [
    "def clean_text(text):\n",
    "    text = re.sub(r'@\\w+', '', text)\n",
    "    text = re.sub(r'#\\w+', '', text)\n",
    "    text = re.sub(r'http\\S+|www\\.\\S+', '', text)\n",
    "    text = re.sub(r'\\s+', ' ', text).strip()\n",
    "    return text"
   ]
  },
  {
   "cell_type": "code",
   "execution_count": 7,
   "id": "095feb2f",
   "metadata": {},
   "outputs": [],
   "source": [
    "df = pd.read_csv(train_dataset_path,encoding='latin')\n",
    "text = ' '.join(list(df['OriginalTweet']))\n",
    "text = text.lower()\n",
    "text = clean_text(text)\n",
    "\n",
    "tokenizer = Tokenizer(WordLevel(unk_token=\"[UNK]\"))\n",
    "tokenizer.pre_tokenizer = Whitespace()\n",
    "\n",
    "trainer = WordLevelTrainer(\n",
    "    vocab_size=10_000,\n",
    "    special_tokens=[\"[PAD]\", \"[UNK]\", \"[CLS]\", \"[SEP]\", \"[MASK]\"]\n",
    ")\n",
    "tokenizer.train_from_iterator([text],trainer=trainer)"
   ]
  },
  {
   "cell_type": "code",
   "execution_count": 8,
   "id": "914b0258",
   "metadata": {},
   "outputs": [],
   "source": [
    "class SentimentDataset(Dataset):\n",
    "    def __init__(self,tokenizer,dataset_path:str,max_len:int):\n",
    "        super().__init__()\n",
    "        self.df = pd.read_csv(dataset_path,encoding='latin')\n",
    "        tokenizer.enable_padding(length=max_len, pad_id=tokenizer.token_to_id(\"[PAD]\"), pad_token=\"[PAD]\")\n",
    "        tokenizer.enable_truncation(max_length=max_len)\n",
    "        self.tokenizer = tokenizer\n",
    "        self.max_len = max_len\n",
    "        self.sentiments = list(self.df['Sentiment'].unique())\n",
    "    def __getitem__(self, index):\n",
    "        tweet = self.df['OriginalTweet'][index]\n",
    "        tweet = clean_text(tweet.lower())\n",
    "        Sentiment = self.sentiments.index(self.df['Sentiment'][index])\n",
    "        return torch.tensor(self.tokenizer.encode(tweet).ids),Sentiment\n",
    "    def __len__(self):\n",
    "        return len(self.df)\n",
    "    \n",
    "\n",
    "dataset = SentimentDataset(tokenizer,train_dataset_path,max_len=150)\n",
    "loader = DataLoader(dataset,batch_size=32,shuffle=True)"
   ]
  },
  {
   "cell_type": "code",
   "execution_count": 9,
   "id": "5d48e5db",
   "metadata": {},
   "outputs": [
    {
     "data": {
      "text/plain": [
       "['Neutral', 'Positive', 'Extremely Negative', 'Negative', 'Extremely Positive']"
      ]
     },
     "execution_count": 9,
     "metadata": {},
     "output_type": "execute_result"
    }
   ],
   "source": [
    "df = pd.read_csv(train_dataset_path,encoding='latin')\n",
    "list(df['Sentiment'].unique())"
   ]
  },
  {
   "cell_type": "code",
   "execution_count": 10,
   "id": "3e961685",
   "metadata": {},
   "outputs": [],
   "source": [
    "\n",
    "\n",
    "class SentimentClassifier(nn.Module):\n",
    "    def __init__(self, emb_dim,num_tokens,num_encoder,num_heads,num_classes):\n",
    "        super().__init__()\n",
    "        rope = RoPE(emb_dim=emb_dim,seq_len=150,num_heads=num_heads,device=DEVICE)\n",
    "        precomputed_angles = rope.precompute_angles()\n",
    "        self.model = nn.Sequential(\n",
    "            nn.Embedding(num_tokens,emb_dim),\n",
    "            Encoder(emb_dim=emb_dim,hidden_dim=emb_dim,n_heads=num_heads,RoPE=True,RoPE_Precomputed_Angles=precomputed_angles),\n",
    "            Encoder(emb_dim=emb_dim,hidden_dim=emb_dim,n_heads=num_heads,RoPE=True,RoPE_Precomputed_Angles=precomputed_angles),\n",
    "        )\n",
    "        self.classification_layer = nn.Sequential(\n",
    "            nn.Linear(emb_dim,emb_dim),\n",
    "            nn.ReLU(),\n",
    "            nn.Linear(emb_dim,num_classes)\n",
    "        )\n",
    "    def forward(self,input_tensor):\n",
    "        x = self.model(input_tensor)\n",
    "        x = x.mean(dim=1)          \n",
    "        x = self.classification_layer(x) \n",
    "        return x    "
   ]
  },
  {
   "cell_type": "code",
   "execution_count": 25,
   "id": "35317f5a",
   "metadata": {},
   "outputs": [],
   "source": [
    "Epochs = 50 \n",
    "model = SentimentClassifier(emb_dim=256,num_tokens=tokenizer.get_vocab_size(),num_encoder=5,num_heads=4,num_classes=5)\n",
    "model = model.to(DEVICE)\n",
    "if os.path.exists(\"checkpoints/1_SentenceClassification.pt\"):\n",
    "    model.load_state_dict(torch.load(\"checkpoints/1_SentenceClassification.pt\",map_location=DEVICE))\n",
    "criterion = nn.CrossEntropyLoss()\n",
    "optimizer = torch.optim.Adam(model.parameters(),lr=1e-3)\n",
    "scheduler = torch.optim.lr_scheduler.ReduceLROnPlateau(\n",
    "    optimizer,factor=0.1,patience=2,min_lr=1e-6,verbose=True\n",
    ")"
   ]
  },
  {
   "cell_type": "code",
   "execution_count": 12,
   "id": "27faf9cc",
   "metadata": {},
   "outputs": [
    {
     "data": {
      "image/png": "[encoded data removed]",
      "text/plain": [
       "<Figure size 1000x400 with 1 Axes>"
      ]
     },
     "metadata": {},
     "output_type": "display_data"
    },
    {
     "name": "stdout",
     "output_type": "stream",
     "text": [
      "Epoch 0/50 Batch 13/1287 loss 1.568376"
     ]
    },
    {
     "ename": "KeyboardInterrupt",
     "evalue": "",
     "output_type": "error",
     "traceback": [
      "\u001b[31m---------------------------------------------------------------------------\u001b[39m",
      "\u001b[31mKeyboardInterrupt\u001b[39m                         Traceback (most recent call last)",
      "\u001b[36mCell\u001b[39m\u001b[36m \u001b[39m\u001b[32mIn[12]\u001b[39m\u001b[32m, line 17\u001b[39m\n\u001b[32m     15\u001b[39m out = model(data)\n\u001b[32m     16\u001b[39m loss = criterion(out, sentiments)\n\u001b[32m---> \u001b[39m\u001b[32m17\u001b[39m \u001b[43mloss\u001b[49m\u001b[43m.\u001b[49m\u001b[43mbackward\u001b[49m\u001b[43m(\u001b[49m\u001b[43m)\u001b[49m\n\u001b[32m     18\u001b[39m optimizer.step()\n\u001b[32m     19\u001b[39m running_loss+=loss.item()\n",
      "\u001b[36mFile \u001b[39m\u001b[32m~/workdir/Transformers/env/lib/python3.12/site-packages/torch/_tensor.py:626\u001b[39m, in \u001b[36mTensor.backward\u001b[39m\u001b[34m(self, gradient, retain_graph, create_graph, inputs)\u001b[39m\n\u001b[32m    616\u001b[39m \u001b[38;5;28;01mif\u001b[39;00m has_torch_function_unary(\u001b[38;5;28mself\u001b[39m):\n\u001b[32m    617\u001b[39m     \u001b[38;5;28;01mreturn\u001b[39;00m handle_torch_function(\n\u001b[32m    618\u001b[39m         Tensor.backward,\n\u001b[32m    619\u001b[39m         (\u001b[38;5;28mself\u001b[39m,),\n\u001b[32m   (...)\u001b[39m\u001b[32m    624\u001b[39m         inputs=inputs,\n\u001b[32m    625\u001b[39m     )\n\u001b[32m--> \u001b[39m\u001b[32m626\u001b[39m \u001b[43mtorch\u001b[49m\u001b[43m.\u001b[49m\u001b[43mautograd\u001b[49m\u001b[43m.\u001b[49m\u001b[43mbackward\u001b[49m\u001b[43m(\u001b[49m\n\u001b[32m    627\u001b[39m \u001b[43m    \u001b[49m\u001b[38;5;28;43mself\u001b[39;49m\u001b[43m,\u001b[49m\u001b[43m \u001b[49m\u001b[43mgradient\u001b[49m\u001b[43m,\u001b[49m\u001b[43m \u001b[49m\u001b[43mretain_graph\u001b[49m\u001b[43m,\u001b[49m\u001b[43m \u001b[49m\u001b[43mcreate_graph\u001b[49m\u001b[43m,\u001b[49m\u001b[43m \u001b[49m\u001b[43minputs\u001b[49m\u001b[43m=\u001b[49m\u001b[43minputs\u001b[49m\n\u001b[32m    628\u001b[39m \u001b[43m\u001b[49m\u001b[43m)\u001b[49m\n",
      "\u001b[36mFile \u001b[39m\u001b[32m~/workdir/Transformers/env/lib/python3.12/site-packages/torch/autograd/__init__.py:347\u001b[39m, in \u001b[36mbackward\u001b[39m\u001b[34m(tensors, grad_tensors, retain_graph, create_graph, grad_variables, inputs)\u001b[39m\n\u001b[32m    342\u001b[39m     retain_graph = create_graph\n\u001b[32m    344\u001b[39m \u001b[38;5;66;03m# The reason we repeat the same comment below is that\u001b[39;00m\n\u001b[32m    345\u001b[39m \u001b[38;5;66;03m# some Python versions print out the first line of a multi-line function\u001b[39;00m\n\u001b[32m    346\u001b[39m \u001b[38;5;66;03m# calls in the traceback and some print out the last line\u001b[39;00m\n\u001b[32m--> \u001b[39m\u001b[32m347\u001b[39m \u001b[43m_engine_run_backward\u001b[49m\u001b[43m(\u001b[49m\n\u001b[32m    348\u001b[39m \u001b[43m    \u001b[49m\u001b[43mtensors\u001b[49m\u001b[43m,\u001b[49m\n\u001b[32m    349\u001b[39m \u001b[43m    \u001b[49m\u001b[43mgrad_tensors_\u001b[49m\u001b[43m,\u001b[49m\n\u001b[32m    350\u001b[39m \u001b[43m    \u001b[49m\u001b[43mretain_graph\u001b[49m\u001b[43m,\u001b[49m\n\u001b[32m    351\u001b[39m \u001b[43m    \u001b[49m\u001b[43mcreate_graph\u001b[49m\u001b[43m,\u001b[49m\n\u001b[32m    352\u001b[39m \u001b[43m    \u001b[49m\u001b[43minputs\u001b[49m\u001b[43m,\u001b[49m\n\u001b[32m    353\u001b[39m \u001b[43m    \u001b[49m\u001b[43mallow_unreachable\u001b[49m\u001b[43m=\u001b[49m\u001b[38;5;28;43;01mTrue\u001b[39;49;00m\u001b[43m,\u001b[49m\n\u001b[32m    354\u001b[39m \u001b[43m    \u001b[49m\u001b[43maccumulate_grad\u001b[49m\u001b[43m=\u001b[49m\u001b[38;5;28;43;01mTrue\u001b[39;49;00m\u001b[43m,\u001b[49m\n\u001b[32m    355\u001b[39m \u001b[43m\u001b[49m\u001b[43m)\u001b[49m\n",
      "\u001b[36mFile \u001b[39m\u001b[32m~/workdir/Transformers/env/lib/python3.12/site-packages/torch/autograd/graph.py:823\u001b[39m, in \u001b[36m_engine_run_backward\u001b[39m\u001b[34m(t_outputs, *args, **kwargs)\u001b[39m\n\u001b[32m    821\u001b[39m     unregister_hooks = _register_logging_hooks_on_whole_graph(t_outputs)\n\u001b[32m    822\u001b[39m \u001b[38;5;28;01mtry\u001b[39;00m:\n\u001b[32m--> \u001b[39m\u001b[32m823\u001b[39m     \u001b[38;5;28;01mreturn\u001b[39;00m \u001b[43mVariable\u001b[49m\u001b[43m.\u001b[49m\u001b[43m_execution_engine\u001b[49m\u001b[43m.\u001b[49m\u001b[43mrun_backward\u001b[49m\u001b[43m(\u001b[49m\u001b[43m  \u001b[49m\u001b[38;5;66;43;03m# Calls into the C++ engine to run the backward pass\u001b[39;49;00m\n\u001b[32m    824\u001b[39m \u001b[43m        \u001b[49m\u001b[43mt_outputs\u001b[49m\u001b[43m,\u001b[49m\u001b[43m \u001b[49m\u001b[43m*\u001b[49m\u001b[43margs\u001b[49m\u001b[43m,\u001b[49m\u001b[43m \u001b[49m\u001b[43m*\u001b[49m\u001b[43m*\u001b[49m\u001b[43mkwargs\u001b[49m\n\u001b[32m    825\u001b[39m \u001b[43m    \u001b[49m\u001b[43m)\u001b[49m  \u001b[38;5;66;03m# Calls into the C++ engine to run the backward pass\u001b[39;00m\n\u001b[32m    826\u001b[39m \u001b[38;5;28;01mfinally\u001b[39;00m:\n\u001b[32m    827\u001b[39m     \u001b[38;5;28;01mif\u001b[39;00m attach_logging_hooks:\n",
      "\u001b[31mKeyboardInterrupt\u001b[39m: "
     ]
    }
   ],
   "source": [
    "import matplotlib.pyplot as plt\n",
    "from IPython.display import clear_output\n",
    "import pandas as pd \n",
    "\n",
    "losses = []\n",
    "plt.ion() \n",
    "\n",
    "for i in range(Epochs):\n",
    "    running_loss=0.0\n",
    "    for batch_num, data in enumerate(loader):\n",
    "        optimizer.zero_grad()\n",
    "        data, sentiments = data\n",
    "        data = data.to(DEVICE)\n",
    "        sentiments = sentiments.to(DEVICE)\n",
    "        out = model(data)\n",
    "        loss = criterion(out, sentiments)\n",
    "        loss.backward()\n",
    "        optimizer.step()\n",
    "        running_loss+=loss.item()\n",
    "        losses.append(loss.item())\n",
    "\n",
    "       \n",
    "        if batch_num % 100 == 0 or batch_num == len(loader) - 1:\n",
    "            clear_output(wait=True)\n",
    "            plt.figure(figsize=(10, 4))\n",
    "            plt.plot(losses, label='Batch Loss', alpha=0.7)\n",
    "\n",
    "            if len(losses) > 10:\n",
    "                ewma = pd.Series(losses).ewm(span=50).mean()\n",
    "                plt.plot(ewma, label='Smoothed Loss (EWMA)', color='red')\n",
    "\n",
    "            plt.xlabel('Batch')\n",
    "            plt.ylabel('Loss')\n",
    "            plt.title(f'Epoch {i+1}/{Epochs}')\n",
    "            plt.legend()\n",
    "            plt.grid(True)\n",
    "            plt.show()\n",
    "\n",
    "        print(f\"\\rEpoch {i}/{Epochs} Batch {batch_num}/{len(loader)} loss {loss.item():.6f}\", end='', flush=True)\n",
    "    avrage_train_loss = running_loss / len(loader)\n",
    "    scheduler.step(avrage_train_loss)\n"
   ]
  },
  {
   "cell_type": "code",
   "execution_count": 26,
   "id": "7f023b5c",
   "metadata": {},
   "outputs": [
    {
     "name": "stdout",
     "output_type": "stream",
     "text": [
      "Extremely Positive\n"
     ]
    }
   ],
   "source": [
    "text = \"I am VERY happy\"\n",
    "text = text.lower()\n",
    "tensor = torch.tensor(tokenizer.encode(text).ids).unsqueeze(dim=0).to(DEVICE)\n",
    "out = model(tensor)\n",
    "prob = torch.softmax(out,dim=1)\n",
    "log = torch.argmax(prob,dim=-1)\n",
    "val = ['Neutral', 'Positive', 'Extremely Negative', 'Negative', 'Extremely Positive']\n",
    "idx = log.item()\n",
    "print(val[idx])"
   ]
  },
  {
   "cell_type": "code",
   "execution_count": null,
   "id": "02f77e77",
   "metadata": {},
   "outputs": [],
   "source": []
  }
 ],
 "metadata": {
  "kernelspec": {
   "display_name": "env",
   "language": "python",
   "name": "python3"
  },
  "language_info": {
   "codemirror_mode": {
    "name": "ipython",
    "version": 3
   },
   "file_extension": ".py",
   "mimetype": "text/x-python",
   "name": "python",
   "nbconvert_exporter": "python",
   "pygments_lexer": "ipython3",
   "version": "3.12.3"
  }
 },
 "nbformat": 4,
 "nbformat_minor": 5
}
